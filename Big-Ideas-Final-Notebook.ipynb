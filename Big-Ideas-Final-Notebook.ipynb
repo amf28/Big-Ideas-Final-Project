{
 "cells": [
  {
   "cell_type": "markdown",
   "metadata": {},
   "source": [
    "# Big Ideas Final Notebook"
   ]
  },
  {
   "cell_type": "markdown",
   "metadata": {},
   "source": [
    "![zombies intro](https://media.giphy.com/media/V3zHRAZGp7Qo8/giphy.gif)"
   ]
  },
  {
   "cell_type": "markdown",
   "metadata": {},
   "source": [
    "# Introduction\n",
    "\n",
    "* Imagine a world haunted by silence and eerie shuffles echoing through desolate streets, overrun by a relentless hoard of undead. Humanity has been struck by another pandemic, this one much more sinister and deadly… or… “undeadly”. Zombies. The ravenous monsters have unleashed an unimaginable terror onto this world, and you need to survive. To ensure the safety of you and your loved ones, your only chance of survival is to live in the best neighborhood in Pittsburgh. \n",
    "\n",
    "# Metrics:\n",
    "* To find the best neighborhood to survive a zombie apocalypse we chose three metrics: Number of stores, number of food gardens, and the population density. "
   ]
  },
  {
   "cell_type": "markdown",
   "metadata": {},
   "source": [
    "# Stores!\n",
    "Here are some reasons to consider why it would be beneficial to be near a store if a zombie apocolypse happend:\n",
    "\n",
    "* Supplies: stores offer essential items that you need to survive like food, water, medical supplies, fire kits, and more. By being near a store, you can quickly grab these essentials before finding a more long-term solution.\n",
    "\n",
    "* Weapons: some stores offer things that you can use as weapons. These could be tools from a tool section or, if you get lucky, they have a gun section. Having these weapons is crucial to your survival of fending off zombies trying to kill you.\n",
    "\n",
    "* Shelter: stores can also offer temporary shelter to rest for a few days. You can also use stores to get away from zombies by barricading the doors. Compared to other shelters like houses, stores are  an optimal place to hide because they usually have fewer windows and more things to barricade the doors with\n"
   ]
  },
  {
   "cell_type": "markdown",
   "metadata": {},
   "source": [
    "![zombie](https://media.giphy.com/media/3ov9jLEg29NBxMfAWY/giphy.gif)"
   ]
  },
  {
   "cell_type": "code",
   "execution_count": 2,
   "metadata": {},
   "outputs": [
    {
     "name": "stdout",
     "output_type": "stream",
     "text": [
      "count    41.000000\n",
      "mean      9.292683\n",
      "std       6.269944\n",
      "min       1.000000\n",
      "25%       5.000000\n",
      "50%       8.000000\n",
      "75%      15.000000\n",
      "max      28.000000\n",
      "Name: Zip, dtype: float64\n"
     ]
    },
    {
     "data": {
      "image/png": "[encoded data removed]",
      "text/plain": [
       "<Figure size 720x720 with 1 Axes>"
      ]
     },
     "metadata": {
      "needs_background": "light"
     },
     "output_type": "display_data"
    }
   ],
   "source": [
    "import pandas as pd\n",
    "import numpy as np\n",
    "df = pd.read_csv(\"stores.csv\")\n",
    "pittZip = pd.Series(df[\"Zip\"])\n",
    "pittZip = pittZip.astype(str)\n",
    "qmaskZip = pd.DataFrame(df[pittZip.str.contains(\"152\")])\n",
    "\n",
    "inPitt = qmaskZip.Zip.value_counts(ascending = False);\n",
    "\n",
    "qmaskZip[\"Zip\"].value_counts().plot(kind='bar', xlabel = \"Zip Codes\", ylabel = \"Amount of Stores in Zip Code\", rot=90, figsize = (10, 10))\n",
    "print(inPitt.describe())\n"
   ]
  },
  {
   "cell_type": "markdown",
   "metadata": {},
   "source": [
    "The Top 5 Zipcodes were:\n",
    "* 15237\n",
    "* 15222\n",
    "* 15210\n",
    "* 15213\n",
    "* 15206"
   ]
  },
  {
   "cell_type": "markdown",
   "metadata": {},
   "source": [
    "These zipcodes correlate with these neighborhoods:\n",
    "* Churchill, Penn Hills, Wilkins\n",
    "* Downtown Pittsburgh\n",
    "* Knoxville, Beltzhoover, Carrick, Arlington\n",
    "* Oakland, Bellfield\n",
    "* East Liberty, Morningside, East End"
   ]
  },
  {
   "cell_type": "markdown",
   "metadata": {},
   "source": [
    "Conclusion: According to my data, the zipcode 15237, which contain parts of the neighborhoods Chruchill, Penn Hills, and Wilkins, have the most stores."
   ]
  },
  {
   "cell_type": "markdown",
   "metadata": {},
   "source": [
    "# Population Density\n",
    "\n",
    "When the zombie apocalypse breaks out, you wouldn't want to be in a densely populated area. Why? Here are some things you have to take into account:\n",
    "\n",
    "1. **Higher Risk Infection Spreading:**\n",
    "   The close proximity of people increases the risk of infection spread. In the zombie apocalypse, where getting bitten might make you part of the undead, being in a less crowded area may reduce the chances of encountering zombies, therefore minimizing your chances of getting infected.\n",
    "\n",
    "2. **Limited Resources:**\n",
    "   Resources are more likely to deplete rapidly, as there will be increased competition for essential resources.\n",
    "\n",
    "3. **Mobility and Evacuation:**\n",
    "   Densely populated areas might chaotic during an emergency. Traffic congestion and overcrowded streets could hinder mobility and evacuation efforts.\n"
   ]
  },
  {
   "cell_type": "markdown",
   "metadata": {},
   "source": [
    "![zombie](https://media.giphy.com/media/v1.Y2lkPTc5MGI3NjExaW5leGhiazJ2MGozeXE4N2k3Mm1zMGJobmZ5anFkc29qczd2bHJoMyZlcD12MV9pbnRlcm5hbF9naWZfYnlfaWQmY3Q9Zw/GQbNswkIXzlvi/giphy.gif)"
   ]
  },
  {
   "cell_type": "code",
   "execution_count": 3,
   "metadata": {},
   "outputs": [
    {
     "data": {
      "text/html": [
       "<div>\n",
       "<style scoped>\n",
       "    .dataframe tbody tr th:only-of-type {\n",
       "        vertical-align: middle;\n",
       "    }\n",
       "\n",
       "    .dataframe tbody tr th {\n",
       "        vertical-align: top;\n",
       "    }\n",
       "\n",
       "    .dataframe thead th {\n",
       "        text-align: right;\n",
       "    }\n",
       "</style>\n",
       "<table border=\"1\" class=\"dataframe\">\n",
       "  <thead>\n",
       "    <tr style=\"text-align: right;\">\n",
       "      <th></th>\n",
       "      <th>_id</th>\n",
       "      <th>Neighborhood</th>\n",
       "      <th>2010_Total_Population</th>\n",
       "      <th>2010_OneRace_Population</th>\n",
       "      <th>2010_White_Alone_Population</th>\n",
       "      <th>2010_Black_Alone_Population</th>\n",
       "      <th>2010_American_Indian_and_Alaska_Native_alone_population</th>\n",
       "      <th>2010_Asian_Alone_Population</th>\n",
       "      <th>2010_Native_Hawaiian_and_Other_Pacific_Islander_alone_Populatio</th>\n",
       "      <th>2010_Any_other_single_race_alone_Popualtion</th>\n",
       "      <th>...</th>\n",
       "      <th>Change_2010_to_2020_Total_Population</th>\n",
       "      <th>Change_2010_to_2020_OneRace_Population</th>\n",
       "      <th>Change_2010_to_2020_White_Alone_Population</th>\n",
       "      <th>Change_2010_to_2020_Black_Alone_Population</th>\n",
       "      <th>Change_2010_to_2020_American_Indian_and_Alaska_Native_alone_pop</th>\n",
       "      <th>Change_2010_to_2020_Asian_Alone_Population</th>\n",
       "      <th>Change_2010_to_2020_Native_Hawaiian_and_Other_Pacific_Islander_</th>\n",
       "      <th>Change_2010_to_2020_Any_other_single_race_alone_Popualtion</th>\n",
       "      <th>Change_2010_to_2020_Population_two_or_more_races</th>\n",
       "      <th>Change_2010_to_2020_Hispanic_or_Latino_Population</th>\n",
       "    </tr>\n",
       "  </thead>\n",
       "  <tbody>\n",
       "    <tr>\n",
       "      <th>0</th>\n",
       "      <td>1</td>\n",
       "      <td>Allegheny Center</td>\n",
       "      <td>933</td>\n",
       "      <td>896</td>\n",
       "      <td>381</td>\n",
       "      <td>453</td>\n",
       "      <td>4</td>\n",
       "      <td>56</td>\n",
       "      <td>1</td>\n",
       "      <td>1</td>\n",
       "      <td>...</td>\n",
       "      <td>486</td>\n",
       "      <td>441</td>\n",
       "      <td>302</td>\n",
       "      <td>-63</td>\n",
       "      <td>4</td>\n",
       "      <td>179</td>\n",
       "      <td>0</td>\n",
       "      <td>19</td>\n",
       "      <td>45</td>\n",
       "      <td>23</td>\n",
       "    </tr>\n",
       "    <tr>\n",
       "      <th>1</th>\n",
       "      <td>2</td>\n",
       "      <td>Allegheny West</td>\n",
       "      <td>462</td>\n",
       "      <td>448</td>\n",
       "      <td>354</td>\n",
       "      <td>84</td>\n",
       "      <td>1</td>\n",
       "      <td>7</td>\n",
       "      <td>0</td>\n",
       "      <td>2</td>\n",
       "      <td>...</td>\n",
       "      <td>78</td>\n",
       "      <td>45</td>\n",
       "      <td>72</td>\n",
       "      <td>-52</td>\n",
       "      <td>0</td>\n",
       "      <td>9</td>\n",
       "      <td>1</td>\n",
       "      <td>15</td>\n",
       "      <td>33</td>\n",
       "      <td>28</td>\n",
       "    </tr>\n",
       "    <tr>\n",
       "      <th>2</th>\n",
       "      <td>3</td>\n",
       "      <td>Allentown</td>\n",
       "      <td>2500</td>\n",
       "      <td>2384</td>\n",
       "      <td>1485</td>\n",
       "      <td>878</td>\n",
       "      <td>9</td>\n",
       "      <td>1</td>\n",
       "      <td>0</td>\n",
       "      <td>11</td>\n",
       "      <td>...</td>\n",
       "      <td>-195</td>\n",
       "      <td>-258</td>\n",
       "      <td>-213</td>\n",
       "      <td>-93</td>\n",
       "      <td>-6</td>\n",
       "      <td>18</td>\n",
       "      <td>6</td>\n",
       "      <td>30</td>\n",
       "      <td>63</td>\n",
       "      <td>23</td>\n",
       "    </tr>\n",
       "    <tr>\n",
       "      <th>3</th>\n",
       "      <td>4</td>\n",
       "      <td>Arlington - Arlington Heights (Combined)</td>\n",
       "      <td>2113</td>\n",
       "      <td>2042</td>\n",
       "      <td>1452</td>\n",
       "      <td>576</td>\n",
       "      <td>9</td>\n",
       "      <td>3</td>\n",
       "      <td>0</td>\n",
       "      <td>2</td>\n",
       "      <td>...</td>\n",
       "      <td>-73</td>\n",
       "      <td>-153</td>\n",
       "      <td>-246</td>\n",
       "      <td>44</td>\n",
       "      <td>-4</td>\n",
       "      <td>9</td>\n",
       "      <td>0</td>\n",
       "      <td>44</td>\n",
       "      <td>80</td>\n",
       "      <td>39</td>\n",
       "    </tr>\n",
       "    <tr>\n",
       "      <th>4</th>\n",
       "      <td>5</td>\n",
       "      <td>Banksville</td>\n",
       "      <td>4144</td>\n",
       "      <td>4053</td>\n",
       "      <td>3651</td>\n",
       "      <td>169</td>\n",
       "      <td>2</td>\n",
       "      <td>211</td>\n",
       "      <td>0</td>\n",
       "      <td>20</td>\n",
       "      <td>...</td>\n",
       "      <td>-17</td>\n",
       "      <td>-197</td>\n",
       "      <td>-460</td>\n",
       "      <td>25</td>\n",
       "      <td>5</td>\n",
       "      <td>174</td>\n",
       "      <td>2</td>\n",
       "      <td>57</td>\n",
       "      <td>180</td>\n",
       "      <td>102</td>\n",
       "    </tr>\n",
       "  </tbody>\n",
       "</table>\n",
       "<p>5 rows × 32 columns</p>\n",
       "</div>"
      ],
      "text/plain": [
       "   _id                              Neighborhood  2010_Total_Population  \\\n",
       "0    1                          Allegheny Center                    933   \n",
       "1    2                            Allegheny West                    462   \n",
       "2    3                                 Allentown                   2500   \n",
       "3    4  Arlington - Arlington Heights (Combined)                   2113   \n",
       "4    5                                Banksville                   4144   \n",
       "\n",
       "   2010_OneRace_Population  2010_White_Alone_Population  \\\n",
       "0                      896                          381   \n",
       "1                      448                          354   \n",
       "2                     2384                         1485   \n",
       "3                     2042                         1452   \n",
       "4                     4053                         3651   \n",
       "\n",
       "   2010_Black_Alone_Population  \\\n",
       "0                          453   \n",
       "1                           84   \n",
       "2                          878   \n",
       "3                          576   \n",
       "4                          169   \n",
       "\n",
       "   2010_American_Indian_and_Alaska_Native_alone_population  \\\n",
       "0                                                  4         \n",
       "1                                                  1         \n",
       "2                                                  9         \n",
       "3                                                  9         \n",
       "4                                                  2         \n",
       "\n",
       "   2010_Asian_Alone_Population  \\\n",
       "0                           56   \n",
       "1                            7   \n",
       "2                            1   \n",
       "3                            3   \n",
       "4                          211   \n",
       "\n",
       "   2010_Native_Hawaiian_and_Other_Pacific_Islander_alone_Populatio  \\\n",
       "0                                                  1                 \n",
       "1                                                  0                 \n",
       "2                                                  0                 \n",
       "3                                                  0                 \n",
       "4                                                  0                 \n",
       "\n",
       "   2010_Any_other_single_race_alone_Popualtion  ...  \\\n",
       "0                                            1  ...   \n",
       "1                                            2  ...   \n",
       "2                                           11  ...   \n",
       "3                                            2  ...   \n",
       "4                                           20  ...   \n",
       "\n",
       "   Change_2010_to_2020_Total_Population  \\\n",
       "0                                   486   \n",
       "1                                    78   \n",
       "2                                  -195   \n",
       "3                                   -73   \n",
       "4                                   -17   \n",
       "\n",
       "   Change_2010_to_2020_OneRace_Population  \\\n",
       "0                                     441   \n",
       "1                                      45   \n",
       "2                                    -258   \n",
       "3                                    -153   \n",
       "4                                    -197   \n",
       "\n",
       "   Change_2010_to_2020_White_Alone_Population  \\\n",
       "0                                         302   \n",
       "1                                          72   \n",
       "2                                        -213   \n",
       "3                                        -246   \n",
       "4                                        -460   \n",
       "\n",
       "   Change_2010_to_2020_Black_Alone_Population  \\\n",
       "0                                         -63   \n",
       "1                                         -52   \n",
       "2                                         -93   \n",
       "3                                          44   \n",
       "4                                          25   \n",
       "\n",
       "   Change_2010_to_2020_American_Indian_and_Alaska_Native_alone_pop  \\\n",
       "0                                                  4                 \n",
       "1                                                  0                 \n",
       "2                                                 -6                 \n",
       "3                                                 -4                 \n",
       "4                                                  5                 \n",
       "\n",
       "   Change_2010_to_2020_Asian_Alone_Population  \\\n",
       "0                                         179   \n",
       "1                                           9   \n",
       "2                                          18   \n",
       "3                                           9   \n",
       "4                                         174   \n",
       "\n",
       "   Change_2010_to_2020_Native_Hawaiian_and_Other_Pacific_Islander_  \\\n",
       "0                                                  0                 \n",
       "1                                                  1                 \n",
       "2                                                  6                 \n",
       "3                                                  0                 \n",
       "4                                                  2                 \n",
       "\n",
       "   Change_2010_to_2020_Any_other_single_race_alone_Popualtion  \\\n",
       "0                                                 19            \n",
       "1                                                 15            \n",
       "2                                                 30            \n",
       "3                                                 44            \n",
       "4                                                 57            \n",
       "\n",
       "   Change_2010_to_2020_Population_two_or_more_races  \\\n",
       "0                                                45   \n",
       "1                                                33   \n",
       "2                                                63   \n",
       "3                                                80   \n",
       "4                                               180   \n",
       "\n",
       "   Change_2010_to_2020_Hispanic_or_Latino_Population  \n",
       "0                                                 23  \n",
       "1                                                 28  \n",
       "2                                                 23  \n",
       "3                                                 39  \n",
       "4                                                102  \n",
       "\n",
       "[5 rows x 32 columns]"
      ]
     },
     "execution_count": 3,
     "metadata": {},
     "output_type": "execute_result"
    }
   ],
   "source": [
    "import pandas as pd\n",
    "\n",
    "population = pd.read_csv(\"DensityData.csv\")\n",
    "population.head()"
   ]
  },
  {
   "cell_type": "code",
   "execution_count": 4,
   "metadata": {},
   "outputs": [
    {
     "data": {
      "text/html": [
       "<div>\n",
       "<style scoped>\n",
       "    .dataframe tbody tr th:only-of-type {\n",
       "        vertical-align: middle;\n",
       "    }\n",
       "\n",
       "    .dataframe tbody tr th {\n",
       "        vertical-align: top;\n",
       "    }\n",
       "\n",
       "    .dataframe thead th {\n",
       "        text-align: right;\n",
       "    }\n",
       "</style>\n",
       "<table border=\"1\" class=\"dataframe\">\n",
       "  <thead>\n",
       "    <tr style=\"text-align: right;\">\n",
       "      <th></th>\n",
       "      <th>_id</th>\n",
       "      <th>Neighborhood</th>\n",
       "      <th>Sector #</th>\n",
       "      <th>Pop. 1940</th>\n",
       "      <th>Pop. 1950</th>\n",
       "      <th>Pop. 1960</th>\n",
       "      <th>Pop. 1970</th>\n",
       "      <th>Pop. 1980</th>\n",
       "      <th>Pop. 1990</th>\n",
       "      <th>Pop. 2000</th>\n",
       "      <th>...</th>\n",
       "      <th>% Other (2010)</th>\n",
       "      <th>% White (2010)</th>\n",
       "      <th>% 2+ Races (2010)</th>\n",
       "      <th>% Hispanic (of any race) (2010)</th>\n",
       "      <th>% Pop. Age &lt; 5 (2010)</th>\n",
       "      <th>% Pop. Age 5-19 (2010)</th>\n",
       "      <th>% Pop. Age 20-34 (2010)</th>\n",
       "      <th>% Pop. Age 35-59 (2010)</th>\n",
       "      <th>% Pop. Age 60-74 (2010)</th>\n",
       "      <th>% Pop. Age &gt; 75 (2010)</th>\n",
       "    </tr>\n",
       "  </thead>\n",
       "  <tbody>\n",
       "    <tr>\n",
       "      <th>0</th>\n",
       "      <td>1</td>\n",
       "      <td>Allegheny Center</td>\n",
       "      <td>3</td>\n",
       "      <td>4521</td>\n",
       "      <td>3862</td>\n",
       "      <td>2512</td>\n",
       "      <td>632</td>\n",
       "      <td>1586</td>\n",
       "      <td>1262</td>\n",
       "      <td>886</td>\n",
       "      <td>...</td>\n",
       "      <td>0.006431</td>\n",
       "      <td>0.408360</td>\n",
       "      <td>0.0397</td>\n",
       "      <td>0.029</td>\n",
       "      <td>0.0419</td>\n",
       "      <td>0.2170</td>\n",
       "      <td>0.2757</td>\n",
       "      <td>0.2243</td>\n",
       "      <td>0.1761</td>\n",
       "      <td>0.0650</td>\n",
       "    </tr>\n",
       "    <tr>\n",
       "      <th>1</th>\n",
       "      <td>2</td>\n",
       "      <td>Allegheny West</td>\n",
       "      <td>3</td>\n",
       "      <td>3210</td>\n",
       "      <td>3313</td>\n",
       "      <td>2170</td>\n",
       "      <td>1124</td>\n",
       "      <td>820</td>\n",
       "      <td>654</td>\n",
       "      <td>508</td>\n",
       "      <td>...</td>\n",
       "      <td>0.006494</td>\n",
       "      <td>0.766234</td>\n",
       "      <td>0.0303</td>\n",
       "      <td>0.028</td>\n",
       "      <td>0.0000</td>\n",
       "      <td>0.0000</td>\n",
       "      <td>0.0837</td>\n",
       "      <td>0.6820</td>\n",
       "      <td>0.1255</td>\n",
       "      <td>0.1088</td>\n",
       "    </tr>\n",
       "    <tr>\n",
       "      <th>2</th>\n",
       "      <td>3</td>\n",
       "      <td>Allentown</td>\n",
       "      <td>6</td>\n",
       "      <td>8227</td>\n",
       "      <td>7487</td>\n",
       "      <td>6416</td>\n",
       "      <td>5361</td>\n",
       "      <td>4292</td>\n",
       "      <td>3600</td>\n",
       "      <td>3220</td>\n",
       "      <td>...</td>\n",
       "      <td>0.008000</td>\n",
       "      <td>0.594000</td>\n",
       "      <td>0.0464</td>\n",
       "      <td>0.023</td>\n",
       "      <td>0.0366</td>\n",
       "      <td>0.1485</td>\n",
       "      <td>0.2411</td>\n",
       "      <td>0.3530</td>\n",
       "      <td>0.1440</td>\n",
       "      <td>0.0767</td>\n",
       "    </tr>\n",
       "    <tr>\n",
       "      <th>3</th>\n",
       "      <td>5</td>\n",
       "      <td>Arlington Heights</td>\n",
       "      <td>7</td>\n",
       "      <td>2413</td>\n",
       "      <td>2860</td>\n",
       "      <td>2272</td>\n",
       "      <td>2037</td>\n",
       "      <td>1466</td>\n",
       "      <td>1497</td>\n",
       "      <td>238</td>\n",
       "      <td>...</td>\n",
       "      <td>0.016393</td>\n",
       "      <td>0.094262</td>\n",
       "      <td>0.0492</td>\n",
       "      <td>0.008</td>\n",
       "      <td>0.0410</td>\n",
       "      <td>0.3925</td>\n",
       "      <td>0.1638</td>\n",
       "      <td>0.3072</td>\n",
       "      <td>0.0341</td>\n",
       "      <td>0.0614</td>\n",
       "    </tr>\n",
       "    <tr>\n",
       "      <th>4</th>\n",
       "      <td>6</td>\n",
       "      <td>Banksville</td>\n",
       "      <td>5</td>\n",
       "      <td>1214</td>\n",
       "      <td>1328</td>\n",
       "      <td>2641</td>\n",
       "      <td>4927</td>\n",
       "      <td>3831</td>\n",
       "      <td>4769</td>\n",
       "      <td>4540</td>\n",
       "      <td>...</td>\n",
       "      <td>0.005309</td>\n",
       "      <td>0.881033</td>\n",
       "      <td>0.0220</td>\n",
       "      <td>0.014</td>\n",
       "      <td>0.0288</td>\n",
       "      <td>0.1112</td>\n",
       "      <td>0.2516</td>\n",
       "      <td>0.2982</td>\n",
       "      <td>0.0916</td>\n",
       "      <td>0.2185</td>\n",
       "    </tr>\n",
       "  </tbody>\n",
       "</table>\n",
       "<p>5 rows × 35 columns</p>\n",
       "</div>"
      ],
      "text/plain": [
       "   _id       Neighborhood  Sector #  Pop. 1940  Pop. 1950  Pop. 1960  \\\n",
       "0    1   Allegheny Center         3       4521       3862       2512   \n",
       "1    2     Allegheny West         3       3210       3313       2170   \n",
       "2    3          Allentown         6       8227       7487       6416   \n",
       "3    5  Arlington Heights         7       2413       2860       2272   \n",
       "4    6         Banksville         5       1214       1328       2641   \n",
       "\n",
       "   Pop. 1970  Pop. 1980  Pop. 1990  Pop. 2000  ...  % Other (2010)  \\\n",
       "0        632       1586       1262        886  ...        0.006431   \n",
       "1       1124        820        654        508  ...        0.006494   \n",
       "2       5361       4292       3600       3220  ...        0.008000   \n",
       "3       2037       1466       1497        238  ...        0.016393   \n",
       "4       4927       3831       4769       4540  ...        0.005309   \n",
       "\n",
       "   % White (2010)  % 2+ Races (2010)  % Hispanic (of any race) (2010)  \\\n",
       "0        0.408360             0.0397                            0.029   \n",
       "1        0.766234             0.0303                            0.028   \n",
       "2        0.594000             0.0464                            0.023   \n",
       "3        0.094262             0.0492                            0.008   \n",
       "4        0.881033             0.0220                            0.014   \n",
       "\n",
       "   % Pop. Age < 5 (2010)  % Pop. Age 5-19 (2010)  % Pop. Age 20-34 (2010)  \\\n",
       "0                 0.0419                  0.2170                   0.2757   \n",
       "1                 0.0000                  0.0000                   0.0837   \n",
       "2                 0.0366                  0.1485                   0.2411   \n",
       "3                 0.0410                  0.3925                   0.1638   \n",
       "4                 0.0288                  0.1112                   0.2516   \n",
       "\n",
       "   % Pop. Age 35-59 (2010)  % Pop. Age 60-74 (2010)  % Pop. Age > 75 (2010)  \n",
       "0                   0.2243                   0.1761                  0.0650  \n",
       "1                   0.6820                   0.1255                  0.1088  \n",
       "2                   0.3530                   0.1440                  0.0767  \n",
       "3                   0.3072                   0.0341                  0.0614  \n",
       "4                   0.2982                   0.0916                  0.2185  \n",
       "\n",
       "[5 rows x 35 columns]"
      ]
     },
     "execution_count": 4,
     "metadata": {},
     "output_type": "execute_result"
    }
   ],
   "source": [
    "area = pd.read_csv(\"Area.csv\")\n",
    "area.head()"
   ]
  },
  {
   "cell_type": "code",
   "execution_count": 5,
   "metadata": {},
   "outputs": [
    {
     "name": "stdout",
     "output_type": "stream",
     "text": [
      "0     10.558036\n",
      "1      5.984043\n",
      "2     12.208686\n",
      "3     24.147727\n",
      "4      6.654734\n",
      "        ...    \n",
      "84     9.236111\n",
      "85     1.601562\n",
      "86    18.415698\n",
      "87     7.523483\n",
      "88     5.060241\n",
      "Length: 89, dtype: float64\n"
     ]
    }
   ],
   "source": [
    "density = pd.Series(population[\"2020_Total_Population\"]/area[\"Land Area (acres)\"])\n",
    "print(density)"
   ]
  },
  {
   "cell_type": "code",
   "execution_count": 6,
   "metadata": {},
   "outputs": [
    {
     "data": {
      "text/plain": [
       "20     0.077513\n",
       "69     0.213738\n",
       "36     0.286607\n",
       "76     0.922379\n",
       "55     1.552186\n",
       "        ...    \n",
       "66    25.985681\n",
       "9     28.105887\n",
       "32    28.935731\n",
       "18    32.445507\n",
       "54    33.476328\n",
       "Length: 89, dtype: float64"
      ]
     },
     "execution_count": 6,
     "metadata": {},
     "output_type": "execute_result"
    }
   ],
   "source": [
    "density.sort_values(ascending=True)"
   ]
  },
  {
   "cell_type": "markdown",
   "metadata": {},
   "source": [
    "</br>\n",
    "<b>Densest Neighborhoods:</b>"
   ]
  },
  {
   "cell_type": "code",
   "execution_count": 7,
   "metadata": {},
   "outputs": [
    {
     "name": "stdout",
     "output_type": "stream",
     "text": [
      "       Neighborhood\n",
      "54    North Oakland\n",
      "18  Central Oakland\n",
      "32       Friendship\n",
      "9             Bluff\n",
      "66        Shadyside\n"
     ]
    }
   ],
   "source": [
    "densest = population.iloc[[54, 18, 32, 9, 66], [1]]\n",
    "print(densest)"
   ]
  },
  {
   "cell_type": "markdown",
   "metadata": {},
   "source": [
    "</br>\n",
    "<b>Least Dense Neighborhoods:</b>"
   ]
  },
  {
   "cell_type": "code",
   "execution_count": 8,
   "metadata": {},
   "outputs": [
    {
     "name": "stdout",
     "output_type": "stream",
     "text": [
      "   Neighborhood\n",
      "20      Chateau\n",
      "69  South Shore\n",
      "36         Hays\n",
      "76    St. Clair\n",
      "55  North Shore\n"
     ]
    }
   ],
   "source": [
    "leastDense = population.iloc[[20, 69, 36, 76, 55], [1]]\n",
    "print(leastDense)"
   ]
  },
  {
   "cell_type": "code",
   "execution_count": 9,
   "metadata": {},
   "outputs": [
    {
     "data": {
      "image/png": "[encoded data removed]",
      "text/plain": [
       "<Figure size 720x432 with 1 Axes>"
      ]
     },
     "metadata": {
      "needs_background": "light"
     },
     "output_type": "display_data"
    }
   ],
   "source": [
    "import matplotlib.pyplot as plt\n",
    "\n",
    "neighborhoods = ['North Oakland', 'Central Oakland', 'Friendship', 'Bluff', 'Shadyside', 'Chateau', 'South Shore', 'Hays', 'St. Clair', 'North Shore']\n",
    "population_density = ['33.476328', '32.445507', '28.935731', '28.105887', '25.985681', '0.077513', '0.213738', '0.286607', '0.922379', '1.552186']\n",
    "\n",
    "population_density = [float(density) for density in population_density]\n",
    "\n",
    "plt.figure(figsize=(10, 6))\n",
    "plt.bar(neighborhoods, population_density, color='skyblue')\n",
    "plt.xlabel('Neighborhoods')\n",
    "plt.ylabel('Population Density Per Acre')\n",
    "plt.title('Population Density')\n",
    "plt.xticks(rotation=45, ha='right') \n",
    "plt.tight_layout()\n",
    "\n",
    "plt.show()"
   ]
  },
  {
   "cell_type": "markdown",
   "metadata": {},
   "source": [
    "# Food gardens! \n",
    "Here are some reasons to consider why you should be near a garden during the zombie apocalypse. \n",
    "\n",
    "* Food Source: Gardens provide fresh fruits, vegetables, and herbs, ensuring a sustainable food source. Resources will be scarce, having access to fresh fruits and veg might just save your life!\n",
    "\n",
    "* Sustainability: Growing your own food allows you to be self-sufficient. It reduces the need to venture out in search of supplies, which will be dangerous during the apocalypse. Also, won't have to depend on anyone but yourself, and sometimes, people suck. If you want things done right, do it yourself. \n",
    "\n",
    "* Health Benefits: Fresh produce from a garden can provide vitamins, keeping your overall health.\n",
    "\n",
    "* Also, if this apocalypse thing ever comes to an end, you can start selling at farmers markets, which is pretty cool."
   ]
  },
  {
   "cell_type": "markdown",
   "metadata": {},
   "source": [
    "![plant booty](https://i.gifer.com/oe4.gif)"
   ]
  },
  {
   "cell_type": "code",
   "execution_count": 10,
   "metadata": {},
   "outputs": [
    {
     "name": "stdout",
     "output_type": "stream",
     "text": [
      "AxesSubplot(0.125,0.125;0.775x0.755)\n",
      "\n",
      "This bar graph organizes all the food gardens based on zipcode. As you can see, the zipcode with the most foodgardens is 15206.  Since they have the most gardens, it would be most beneficial to live there.  This area code includes the neighborhoods of EAST LIBERTY, MORNINGSIDE & EAST END, and part of PENN HILLS TOWNSHIP.  There is also a number of neighborhoods that have only 1 garden. It is not a good idea to live there if you want to grow your own food during the apocalypse. \n"
     ]
    },
    {
     "data": {
      "image/png": "[encoded data removed]",
      "text/plain": [
       "<Figure size 504x504 with 1 Axes>"
      ]
     },
     "metadata": {
      "needs_background": "light"
     },
     "output_type": "display_data"
    }
   ],
   "source": [
    "import matplotlib.pyplot as plt\n",
    "from scipy.stats import norm \n",
    "import statistics \n",
    "\n",
    "df = pd.read_csv('food_gardens.csv')\n",
    "\n",
    "zip_code = pd.Series(df['zip_code'])\n",
    "zip_code = zip_code.astype(str)\n",
    "q_mask_by_zip = pd.DataFrame(df[zip_code.str.contains('152')])\n",
    "\n",
    "plot = q_mask_by_zip['zip_code'].value_counts().plot(kind='bar', xlabel='zip_code', ylabel= zip_code.value_counts(), figsize = (7,7))\n",
    "print(plot)\n",
    "\n",
    "print()\n",
    "print(\"This bar graph organizes all the food gardens based on zipcode.\", \n",
    "      \"As you can see, the zipcode with the most foodgardens is 15206. \",\n",
    "      \"Since they have the most gardens, it would be most beneficial to live there. \",\n",
    "     \"This area code includes the neighborhoods of EAST LIBERTY, MORNINGSIDE & EAST END, and part of PENN HILLS TOWNSHIP. \",\n",
    "     \"There is also a number of neighborhoods that have only 1 garden. It is not a good idea to live there if you want to grow your own food during the apocalypse. \")\n"
   ]
  },
  {
   "cell_type": "code",
   "execution_count": 11,
   "metadata": {},
   "outputs": [
    {
     "name": "stdout",
     "output_type": "stream",
     "text": [
      "count    23.000000\n",
      "mean      2.869565\n",
      "std       2.801044\n",
      "min       1.000000\n",
      "25%       1.000000\n",
      "50%       2.000000\n",
      "75%       3.500000\n",
      "max      13.000000\n",
      "Name: zip_code, dtype: float64\n"
     ]
    }
   ],
   "source": [
    "byZipcode = q_mask_by_zip.zip_code.value_counts(ascending = False); \n",
    "print(byZipcode.describe())"
   ]
  },
  {
   "cell_type": "markdown",
   "metadata": {},
   "source": [
    "Since the data is right skewed because of the outliers of 13 gardens in 15206 and 7 gardens in 15219 (upper bound is 6.620, lower bound is .880), we are going to consider the top 25th percentile as the best zipcodes you can live in for farming purposes during the apocolypse. These zipcodes include: \n",
    "* 15206 \n",
    "* 15219 \n",
    "* 15213 \n",
    "* 15201 \n",
    "* 15221 \n",
    "* 15208 \n",
    "\n",
    "Which include the following neighborhoods (respectively): \n",
    "* EAST LIBERTY, MORNINGSIDE & EAST END; \n",
    "* REGENT SQUARE & SWISSHELM PARK; \n",
    "* UPTOWN, HERRON HILL & SCHENLEY HEIGHTS; \n",
    "* OAKLAND & BELLEFIELD; LAWRENCEVILLE & STANTON HEIGHTS; \n",
    "* BRUSHTON, HOMEWOOD & EAST HILLS; \n",
    "* HOMEWOOD, BRUSHTON, EAST END & POINT BREEZE; "
   ]
  },
  {
   "cell_type": "markdown",
   "metadata": {},
   "source": [
    "![a litte disturbing](https://i.gifer.com/650.gif)"
   ]
  },
  {
   "cell_type": "markdown",
   "metadata": {},
   "source": [
    "# Conclusion\n",
    "\n",
    "After analysing the data we collected, we came to the conclusion that Oakland and Chateu are the best Pittsburgh neighborhoods when it comes to surviving the zombie apocalypse. In spite of being densely populated, Oakland is plentiful in food gardens and stores; altough navigating through the neighborhood during a breakout might be chaotic, those who know how to defend themselves would be able to find many critical resources. Chateu, on the other hand, has the smallest population density out of all Pittsburgh neighborhoods, allowing those who are not willing to fight to easily find shelter and stay away from the zombie masses."
   ]
  },
  {
   "cell_type": "markdown",
   "metadata": {},
   "source": [
    "Lucy's reflection: I'm pretty surprised that in my dataset (food gardens), the areas with the most food gardens ended up being areas near the actual city. I would've figured that there would be more community-based gardens in more rural areas. As someone who is not interested in fighting off zombies, I think I, personally, would go to Chateu and live my life in seclusion until I die from hunger or malnutrition because of the lack of resources (farms and stores).  \n",
    "\n",
    "Abby's Reflection: I'm not surprised about the results of my dataset. It makes sense that there would be more stores in places with more people. I think I would also live in Chateu rather than densly populated Oakland because I am more of a lover not a fighter (unless I need to becuase no way am I becoming a zombie) and I would rather die peacfully than deal with zombies.\n",
    "\n",
    "Maria's Reflection: Because I didn't know much about Pittsburgh's neighborhoods, I wasn't really surprised by the results of my datasets. Unlike Abby, I like to think of myself as a fighter rather than a lover, so I would venture out and try my luck in the chaotic warzone that would be Oakland. If the apocalypse was upon us anyways, I'd rather go down with a bang."
   ]
  }
 ],
 "metadata": {
  "kernelspec": {
   "display_name": "Python 3",
   "language": "python",
   "name": "python3"
  },
  "language_info": {
   "codemirror_mode": {
    "name": "ipython",
    "version": 3
   },
   "file_extension": ".py",
   "mimetype": "text/x-python",
   "name": "python",
   "nbconvert_exporter": "python",
   "pygments_lexer": "ipython3",
   "version": "3.8.3"
  }
 },
 "nbformat": 4,
 "nbformat_minor": 4
}
